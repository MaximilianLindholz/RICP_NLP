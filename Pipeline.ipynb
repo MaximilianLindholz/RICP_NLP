{
 "cells": [
  {
   "cell_type": "code",
   "execution_count": 19,
   "metadata": {},
   "outputs": [
    {
     "name": "stderr",
     "output_type": "stream",
     "text": [
      "/Library/Frameworks/Python.framework/Versions/3.10/lib/python3.10/site-packages/requests/__init__.py:102: RequestsDependencyWarning: urllib3 (1.26.8) or chardet (5.1.0)/charset_normalizer (2.0.10) doesn't match a supported version!\n",
      "  warnings.warn(\"urllib3 ({}) or chardet ({})/charset_normalizer ({}) doesn't match a supported \"\n",
      "2023-05-29 12:23:00.044093: I tensorflow/core/platform/cpu_feature_guard.cc:193] This TensorFlow binary is optimized with oneAPI Deep Neural Network Library (oneDNN) to use the following CPU instructions in performance-critical operations:  AVX2 AVX512F AVX512_VNNI FMA\n",
      "To enable them in other operations, rebuild TensorFlow with the appropriate compiler flags.\n"
     ]
    }
   ],
   "source": [
    "import re\n",
    "import pandas as pd\n",
    "# classic ml\n",
    "from sklearn.model_selection import train_test_split\n",
    "from sklearn.feature_extraction.text import TfidfVectorizer\n",
    "from sklearn.pipeline import Pipeline\n",
    "from sklearn.model_selection import GridSearchCV\n",
    "from sklearn.naive_bayes import MultinomialNB\n",
    "from sklearn.ensemble import RandomForestClassifier\n",
    "from sklearn.linear_model import LogisticRegression\n",
    "from sklearn.svm import SVC\n",
    "from sklearn.preprocessing import LabelEncoder\n",
    "\n",
    "# transformer\n",
    "from transformers import BertTokenizer, TFBertForSequenceClassification\n",
    "import tensorflow as tf"
   ]
  },
  {
   "attachments": {},
   "cell_type": "markdown",
   "metadata": {},
   "source": [
    "# Preprocessing"
   ]
  },
  {
   "cell_type": "code",
   "execution_count": 16,
   "metadata": {},
   "outputs": [
    {
     "data": {
      "text/html": [
       "<div>\n",
       "<style scoped>\n",
       "    .dataframe tbody tr th:only-of-type {\n",
       "        vertical-align: middle;\n",
       "    }\n",
       "\n",
       "    .dataframe tbody tr th {\n",
       "        vertical-align: top;\n",
       "    }\n",
       "\n",
       "    .dataframe thead th {\n",
       "        text-align: right;\n",
       "    }\n",
       "</style>\n",
       "<table border=\"1\" class=\"dataframe\">\n",
       "  <thead>\n",
       "    <tr style=\"text-align: right;\">\n",
       "      <th></th>\n",
       "      <th>Unnamed: 0</th>\n",
       "      <th>IMS</th>\n",
       "      <th>Text</th>\n",
       "    </tr>\n",
       "  </thead>\n",
       "  <tbody>\n",
       "    <tr>\n",
       "      <th>0</th>\n",
       "      <td>1</td>\n",
       "      <td>0</td>\n",
       "      <td>passive Atemtherapie (reflektorisch)c-Krankeng...</td>\n",
       "    </tr>\n",
       "    <tr>\n",
       "      <th>1</th>\n",
       "      <td>2</td>\n",
       "      <td>3</td>\n",
       "      <td>passive Atemtherapie (reflektorisch)c-Krankeng...</td>\n",
       "    </tr>\n",
       "    <tr>\n",
       "      <th>2</th>\n",
       "      <td>3</td>\n",
       "      <td>3</td>\n",
       "      <td>aktive Atemtherapie, c-Krankengymnastik neurop...</td>\n",
       "    </tr>\n",
       "    <tr>\n",
       "      <th>3</th>\n",
       "      <td>4</td>\n",
       "      <td>1</td>\n",
       "      <td>c-Krankengymnastik neurophysiologisch -aktiv,S...</td>\n",
       "    </tr>\n",
       "    <tr>\n",
       "      <th>4</th>\n",
       "      <td>5</td>\n",
       "      <td>3</td>\n",
       "      <td>passive Atemtherapie (reflektorisch)Atemtherap...</td>\n",
       "    </tr>\n",
       "  </tbody>\n",
       "</table>\n",
       "</div>"
      ],
      "text/plain": [
       "   Unnamed: 0  IMS                                               Text\n",
       "0           1    0  passive Atemtherapie (reflektorisch)c-Krankeng...\n",
       "1           2    3  passive Atemtherapie (reflektorisch)c-Krankeng...\n",
       "2           3    3  aktive Atemtherapie, c-Krankengymnastik neurop...\n",
       "3           4    1  c-Krankengymnastik neurophysiologisch -aktiv,S...\n",
       "4           5    3  passive Atemtherapie (reflektorisch)Atemtherap..."
      ]
     },
     "execution_count": 16,
     "metadata": {},
     "output_type": "execute_result"
    }
   ],
   "source": [
    "# Define a function to clean the text, not necessarily always good to remove punctations etc here as the information is fairly dense, but lets see later\n",
    "df = pd.read_csv('/Users/maximilianlindholz/Desktop/Promotion:Arbeit/Scoring/ScoresTrain_filtered.csv')\n",
    "df.head()"
   ]
  },
  {
   "cell_type": "code",
   "execution_count": 17,
   "metadata": {},
   "outputs": [],
   "source": [
    "def clean_text(text):\n",
    "    # Lowercase the text\n",
    "    text = text.lower()\n",
    "    # Remove leading/trailing whitespace\n",
    "    text = text.strip()\n",
    "    return text\n",
    "\n",
    "# Apply the clean_text function to the 'free_text' column\n",
    "df['cleaned_text'] = df['Text'].apply(clean_text)\n",
    "\n",
    "# Split data into training and testing\n",
    "X_train, X_test, y_train, y_test = train_test_split(df['cleaned_text'], df['IMS'], test_size=0.2, random_state=42)\n"
   ]
  },
  {
   "attachments": {},
   "cell_type": "markdown",
   "metadata": {},
   "source": [
    "# most basic"
   ]
  },
  {
   "cell_type": "code",
   "execution_count": 18,
   "metadata": {},
   "outputs": [
    {
     "name": "stdout",
     "output_type": "stream",
     "text": [
      "\n",
      "Performing grid search for model: Naive Bayes\n"
     ]
    },
    {
     "name": "stderr",
     "output_type": "stream",
     "text": [
      "/Library/Frameworks/Python.framework/Versions/3.10/lib/python3.10/site-packages/sklearn/model_selection/_split.py:684: UserWarning: The least populated class in y has only 3 members, which is less than n_splits=5.\n",
      "  warnings.warn(\n"
     ]
    },
    {
     "name": "stdout",
     "output_type": "stream",
     "text": [
      "Best score: 0.828\n",
      "Best parameters set:\n",
      "\tclf__alpha: 0.1\n",
      "\ttfidf__max_df: 0.5\n",
      "\ttfidf__max_features: 5000\n",
      "\ttfidf__ngram_range: (1, 2)\n",
      "\n",
      "Performing grid search for model: Random Forest\n"
     ]
    },
    {
     "name": "stderr",
     "output_type": "stream",
     "text": [
      "/Library/Frameworks/Python.framework/Versions/3.10/lib/python3.10/site-packages/sklearn/model_selection/_split.py:684: UserWarning: The least populated class in y has only 3 members, which is less than n_splits=5.\n",
      "  warnings.warn(\n"
     ]
    },
    {
     "name": "stdout",
     "output_type": "stream",
     "text": [
      "Best score: 0.870\n",
      "Best parameters set:\n",
      "\tclf__max_depth: None\n",
      "\tclf__n_estimators: 200\n",
      "\ttfidf__max_df: 0.75\n",
      "\ttfidf__max_features: 50000\n",
      "\ttfidf__ngram_range: (1, 1)\n",
      "\n",
      "Performing grid search for model: Logistic Regression\n"
     ]
    },
    {
     "name": "stderr",
     "output_type": "stream",
     "text": [
      "/Library/Frameworks/Python.framework/Versions/3.10/lib/python3.10/site-packages/sklearn/model_selection/_split.py:684: UserWarning: The least populated class in y has only 3 members, which is less than n_splits=5.\n",
      "  warnings.warn(\n"
     ]
    },
    {
     "name": "stdout",
     "output_type": "stream",
     "text": [
      "Best score: 0.879\n",
      "Best parameters set:\n",
      "\tclf__C: 10\n",
      "\ttfidf__max_df: 0.75\n",
      "\ttfidf__max_features: None\n",
      "\ttfidf__ngram_range: (1, 2)\n",
      "\n",
      "Performing grid search for model: SVM\n"
     ]
    },
    {
     "name": "stderr",
     "output_type": "stream",
     "text": [
      "/Library/Frameworks/Python.framework/Versions/3.10/lib/python3.10/site-packages/sklearn/model_selection/_split.py:684: UserWarning: The least populated class in y has only 3 members, which is less than n_splits=5.\n",
      "  warnings.warn(\n"
     ]
    },
    {
     "name": "stdout",
     "output_type": "stream",
     "text": [
      "Best score: 0.872\n",
      "Best parameters set:\n",
      "\tclf__C: 10\n",
      "\ttfidf__max_df: 0.5\n",
      "\ttfidf__max_features: None\n",
      "\ttfidf__ngram_range: (1, 1)\n"
     ]
    }
   ],
   "source": [
    "# Set up pipelines\n",
    "pipelines = [\n",
    "    {\n",
    "        \"name\": \"Naive Bayes\",\n",
    "        \"pipeline\": Pipeline([\n",
    "            ('tfidf', TfidfVectorizer()),\n",
    "            ('clf', MultinomialNB())\n",
    "        ]),\n",
    "        \"parameters\": {\n",
    "            'tfidf__max_df': (0.5, 0.75, 1.0),\n",
    "            'tfidf__max_features': (None, 5000, 10000, 50000),\n",
    "            'tfidf__ngram_range': ((1, 1), (1, 2), (2, 2)),  \n",
    "            'clf__alpha': (0.1, 1, 10),\n",
    "        }\n",
    "    },\n",
    "    {\n",
    "        \"name\": \"Random Forest\",\n",
    "        \"pipeline\": Pipeline([\n",
    "            ('tfidf', TfidfVectorizer()),\n",
    "            ('clf', RandomForestClassifier())\n",
    "        ]),\n",
    "        \"parameters\": {\n",
    "            'tfidf__max_df': (0.5, 0.75, 1.0),\n",
    "            'tfidf__max_features': (None, 5000, 10000, 50000),\n",
    "            'tfidf__ngram_range': ((1, 1), (1, 2), (2, 2)),  \n",
    "            'clf__n_estimators': [50, 100, 200],\n",
    "            'clf__max_depth': [None, 30, 50, 100],\n",
    "        }\n",
    "    },\n",
    "    {\n",
    "        \"name\": \"Logistic Regression\",\n",
    "        \"pipeline\": Pipeline([\n",
    "            ('tfidf', TfidfVectorizer()),\n",
    "            ('clf', LogisticRegression())\n",
    "        ]),\n",
    "        \"parameters\": {\n",
    "            'tfidf__max_df': (0.5, 0.75, 1.0),\n",
    "            'tfidf__max_features': (None, 5000, 10000, 50000),\n",
    "            'tfidf__ngram_range': ((1, 1), (1, 2), (2, 2)),  \n",
    "            'clf__C': (0.01, 0.1, 1, 10),\n",
    "        }\n",
    "    },\n",
    "    {\n",
    "        \"name\": \"SVM\",\n",
    "        \"pipeline\": Pipeline([\n",
    "            ('tfidf', TfidfVectorizer()),\n",
    "            ('clf', SVC())\n",
    "        ]),\n",
    "        \"parameters\": {\n",
    "            'tfidf__max_df': (0.5, 0.75, 1.0),\n",
    "            'tfidf__max_features': (None, 5000, 10000, 50000),\n",
    "            'tfidf__ngram_range': ((1, 1), (1, 2), (2, 2)),  \n",
    "            'clf__C': (0.01, 0.1, 1, 10),\n",
    "        }\n",
    "    }\n",
    "]\n",
    "\n",
    "# Loop through pipelines, performing a Grid Search with Cross Validation for each\n",
    "for model in pipelines:\n",
    "    grid_search = GridSearchCV(model[\"pipeline\"], model[\"parameters\"], cv=5)\n",
    "    print(\"\\nPerforming grid search for model:\", model[\"name\"])\n",
    "    grid_search.fit(X_train, y_train)\n",
    "    print(\"Best score: %0.3f\" % grid_search.best_score_)\n",
    "    print(\"Best parameters set:\")\n",
    "    best_parameters = grid_search.best_estimator_.get_params()\n",
    "    for param_name in sorted(model[\"parameters\"].keys()):\n",
    "        print(\"\\t%s: %r\" % (param_name, best_parameters[param_name]))"
   ]
  },
  {
   "attachments": {},
   "cell_type": "markdown",
   "metadata": {},
   "source": [
    "# Fine tuning Transformer models"
   ]
  },
  {
   "cell_type": "code",
   "execution_count": null,
   "metadata": {},
   "outputs": [],
   "source": [
    "# Initialize BERT tokenizer\n",
    "tokenizer = BertTokenizer.from_pretrained('bert-base-uncased')\n"
   ]
  },
  {
   "cell_type": "code",
   "execution_count": 21,
   "metadata": {},
   "outputs": [
    {
     "name": "stderr",
     "output_type": "stream",
     "text": [
      "All model checkpoint layers were used when initializing TFBertForSequenceClassification.\n",
      "\n",
      "Some layers of TFBertForSequenceClassification were not initialized from the model checkpoint at bert-base-uncased and are newly initialized: ['classifier']\n",
      "You should probably TRAIN this model on a down-stream task to be able to use it for predictions and inference.\n"
     ]
    },
    {
     "name": "stdout",
     "output_type": "stream",
     "text": [
      "Epoch 1/3\n",
      " 3/31 [=>............................] - ETA: 41:47 - loss: 2.5361 - accuracy: 0.1667 "
     ]
    }
   ],
   "source": [
    "# Define a function to encode the text\n",
    "def encode_text(text):\n",
    "    return tokenizer.encode_plus(\n",
    "        text,\n",
    "        add_special_tokens=True,\n",
    "        max_length=512,\n",
    "        return_attention_mask=True,\n",
    "        return_tensors='tf',\n",
    "        padding='max_length',\n",
    "        truncation=True\n",
    "    )\n",
    "\n",
    "# Encode the cleaned text\n",
    "X_train_encoded = [encode_text(text) for text in X_train]\n",
    "X_test_encoded = [encode_text(text) for text in X_test]\n",
    "\n",
    "# Convert to TensorFlow tensors and make sure tensors are 2D\n",
    "X_train_tensors = {key: tf.convert_to_tensor([doc[key][0] for doc in X_train_encoded]) for key in X_train_encoded[0]}\n",
    "X_test_tensors = {key: tf.convert_to_tensor([doc[key][0] for doc in X_test_encoded]) for key in X_test_encoded[0]}\n",
    "\n",
    "# Label encoding\n",
    "le = LabelEncoder()\n",
    "y_train_encoded = le.fit_transform(y_train)\n",
    "y_test_encoded = le.transform(y_test)\n",
    "\n",
    "# Convert labels to tensors\n",
    "y_train_tensors = tf.convert_to_tensor(y_train_encoded)\n",
    "y_test_tensors = tf.convert_to_tensor(y_test_encoded)\n",
    "\n",
    "# Initialize BERT model\n",
    "model = TFBertForSequenceClassification.from_pretrained('bert-base-uncased', num_labels=len(le.classes_))\n",
    "\n",
    "# Define loss and metrics\n",
    "loss = tf.keras.losses.SparseCategoricalCrossentropy(from_logits=True)\n",
    "metrics = tf.metrics.SparseCategoricalAccuracy('accuracy')\n",
    "\n",
    "# Compile model\n",
    "model.compile(optimizer=tf.keras.optimizers.Adam(learning_rate=3e-5), loss=loss, metrics=[metrics])\n",
    "\n",
    "# Train model\n",
    "history = model.fit(X_train_tensors, y_train_tensors, epochs=3, validation_data=(X_test_tensors, y_test_tensors))\n",
    "\n",
    "# Evaluate model\n",
    "test_loss, test_acc = model.evaluate(X_test_tensors, y_test_tensors, verbose=2)\n",
    "print('\\nTest accuracy:', test_acc)"
   ]
  },
  {
   "cell_type": "code",
   "execution_count": null,
   "metadata": {},
   "outputs": [],
   "source": [
    "# todo: also use med-bert, choose different measures and display confusion matrices etc.\n",
    "# maybe also add a random forrest or other ensemble algorithm  and also display loss possibly"
   ]
  }
 ],
 "metadata": {
  "kernelspec": {
   "display_name": "time",
   "language": "python",
   "name": "time"
  },
  "language_info": {
   "codemirror_mode": {
    "name": "ipython",
    "version": 3
   },
   "file_extension": ".py",
   "mimetype": "text/x-python",
   "name": "python",
   "nbconvert_exporter": "python",
   "pygments_lexer": "ipython3",
   "version": "3.10.1"
  },
  "orig_nbformat": 4
 },
 "nbformat": 4,
 "nbformat_minor": 2
}
