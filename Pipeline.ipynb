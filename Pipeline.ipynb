{
 "cells": [
  {
   "cell_type": "code",
   "execution_count": 2,
   "metadata": {},
   "outputs": [
    {
     "name": "stderr",
     "output_type": "stream",
     "text": [
      "2023-06-05 03:28:41.628502: I tensorflow/core/platform/cpu_feature_guard.cc:182] This TensorFlow binary is optimized to use available CPU instructions in performance-critical operations.\n",
      "To enable the following instructions: AVX2 AVX512F AVX512_VNNI FMA, in other operations, rebuild TensorFlow with the appropriate compiler flags.\n"
     ]
    }
   ],
   "source": [
    "import re\n",
    "import pandas as pd\n",
    "# classic ml\n",
    "from sklearn.model_selection import train_test_split\n",
    "from sklearn.feature_extraction.text import TfidfVectorizer\n",
    "from sklearn.pipeline import Pipeline\n",
    "from sklearn.model_selection import GridSearchCV\n",
    "from sklearn.naive_bayes import MultinomialNB\n",
    "from sklearn.ensemble import RandomForestClassifier\n",
    "from sklearn.linear_model import LogisticRegression\n",
    "from sklearn.svm import SVC\n",
    "from sklearn.preprocessing import LabelEncoder\n",
    "\n",
    "# transformer\n",
    "from transformers import BertTokenizer, TFBertForSequenceClassification\n",
    "import tensorflow as tf"
   ]
  },
  {
   "attachments": {},
   "cell_type": "markdown",
   "metadata": {},
   "source": [
    "# Preprocessing"
   ]
  },
  {
   "cell_type": "code",
   "execution_count": null,
   "metadata": {},
   "outputs": [],
   "source": [
    "# Define a function to clean the text, not necessarily always good to remove punctations etc here as the information is fairly dense, but lets see later\n",
    "df = pd.read_csv('/Users/maximilianlindholz/Desktop/Promotion:Arbeit/Scoring/ScoresTrain_filtered.csv')"
   ]
  },
  {
   "cell_type": "code",
   "execution_count": null,
   "metadata": {},
   "outputs": [],
   "source": [
    "def clean_text(text):\n",
    "    # Lowercase the text\n",
    "    text = text.lower()\n",
    "    # Remove leading/trailing whitespace\n",
    "    text = text.strip()\n",
    "    return text\n",
    "\n",
    "# Apply the clean_text function to the 'free_text' column\n",
    "df['cleaned_text'] = df['Text'].apply(clean_text)\n",
    "\n",
    "# Split data into training and testing\n",
    "X_train, X_test, y_train, y_test = train_test_split(df['cleaned_text'], df['IMS'], test_size=0.2, random_state=42)\n"
   ]
  },
  {
   "attachments": {},
   "cell_type": "markdown",
   "metadata": {},
   "source": [
    "# most basic"
   ]
  },
  {
   "cell_type": "code",
   "execution_count": null,
   "metadata": {},
   "outputs": [],
   "source": [
    "# Set up pipelines\n",
    "pipelines = [\n",
    "    {\n",
    "        \"name\": \"Naive Bayes\",\n",
    "        \"pipeline\": Pipeline([\n",
    "            ('tfidf', TfidfVectorizer()),\n",
    "            ('clf', MultinomialNB())\n",
    "        ]),\n",
    "        \"parameters\": {\n",
    "            'tfidf__max_df': (0.5, 0.75, 1.0),\n",
    "            'tfidf__max_features': (None, 5000, 10000, 50000),\n",
    "            'tfidf__ngram_range': ((1, 1), (1, 2), (2, 2)),  \n",
    "            'clf__alpha': (0.1, 1, 10),\n",
    "        }\n",
    "    },\n",
    "    {\n",
    "        \"name\": \"Random Forest\",\n",
    "        \"pipeline\": Pipeline([\n",
    "            ('tfidf', TfidfVectorizer()),\n",
    "            ('clf', RandomForestClassifier())\n",
    "        ]),\n",
    "        \"parameters\": {\n",
    "            'tfidf__max_df': (0.5, 0.75, 1.0),\n",
    "            'tfidf__max_features': (None, 5000, 10000, 50000),\n",
    "            'tfidf__ngram_range': ((1, 1), (1, 2), (2, 2)),  \n",
    "            'clf__n_estimators': [50, 100, 200],\n",
    "            'clf__max_depth': [None, 30, 50, 100],\n",
    "        }\n",
    "    },\n",
    "    {\n",
    "        \"name\": \"Logistic Regression\",\n",
    "        \"pipeline\": Pipeline([\n",
    "            ('tfidf', TfidfVectorizer()),\n",
    "            ('clf', LogisticRegression())\n",
    "        ]),\n",
    "        \"parameters\": {\n",
    "            'tfidf__max_df': (0.5, 0.75, 1.0),\n",
    "            'tfidf__max_features': (None, 5000, 10000, 50000),\n",
    "            'tfidf__ngram_range': ((1, 1), (1, 2), (2, 2)),  \n",
    "            'clf__C': (0.01, 0.1, 1, 10),\n",
    "        }\n",
    "    },\n",
    "    {\n",
    "        \"name\": \"SVM\",\n",
    "        \"pipeline\": Pipeline([\n",
    "            ('tfidf', TfidfVectorizer()),\n",
    "            ('clf', SVC())\n",
    "        ]),\n",
    "        \"parameters\": {\n",
    "            'tfidf__max_df': (0.5, 0.75, 1.0),\n",
    "            'tfidf__max_features': (None, 5000, 10000, 50000),\n",
    "            'tfidf__ngram_range': ((1, 1), (1, 2), (2, 2)),  \n",
    "            'clf__C': (0.01, 0.1, 1, 10),\n",
    "        }\n",
    "    }\n",
    "]\n",
    "\n",
    "# Loop through pipelines, performing a Grid Search with Cross Validation for each\n",
    "for model in pipelines:\n",
    "    grid_search = GridSearchCV(model[\"pipeline\"], model[\"parameters\"], cv=5)\n",
    "    print(\"\\nPerforming grid search for model:\", model[\"name\"])\n",
    "    grid_search.fit(X_train, y_train)\n",
    "    print(\"Best score: %0.3f\" % grid_search.best_score_)\n",
    "    print(\"Best parameters set:\")\n",
    "    best_parameters = grid_search.best_estimator_.get_params()\n",
    "    for param_name in sorted(model[\"parameters\"].keys()):\n",
    "        print(\"\\t%s: %r\" % (param_name, best_parameters[param_name]))"
   ]
  },
  {
   "attachments": {},
   "cell_type": "markdown",
   "metadata": {},
   "source": [
    "# Fine tuning Transformer models"
   ]
  },
  {
   "cell_type": "code",
   "execution_count": null,
   "metadata": {},
   "outputs": [],
   "source": [
    "# Initialize BERT tokenizer\n",
    "tokenizer = BertTokenizer.from_pretrained('bert-base-uncased')\n"
   ]
  },
  {
   "cell_type": "code",
   "execution_count": null,
   "metadata": {},
   "outputs": [],
   "source": [
    "# Define a function to encode the text\n",
    "def encode_text(text):\n",
    "    return tokenizer.encode_plus(\n",
    "        text,\n",
    "        add_special_tokens=True,\n",
    "        max_length=512,\n",
    "        return_attention_mask=True,\n",
    "        return_tensors='tf',\n",
    "        padding='max_length',\n",
    "        truncation=True\n",
    "    )\n",
    "\n",
    "# Encode the cleaned text\n",
    "X_train_encoded = [encode_text(text) for text in X_train]\n",
    "X_test_encoded = [encode_text(text) for text in X_test]\n",
    "\n",
    "# Convert to TensorFlow tensors and make sure tensors are 2D\n",
    "X_train_tensors = {key: tf.convert_to_tensor([doc[key][0] for doc in X_train_encoded]) for key in X_train_encoded[0]}\n",
    "X_test_tensors = {key: tf.convert_to_tensor([doc[key][0] for doc in X_test_encoded]) for key in X_test_encoded[0]}\n",
    "\n",
    "# Label encoding\n",
    "le = LabelEncoder()\n",
    "y_train_encoded = le.fit_transform(y_train)\n",
    "y_test_encoded = le.transform(y_test)\n",
    "\n",
    "# Convert labels to tensors\n",
    "y_train_tensors = tf.convert_to_tensor(y_train_encoded)\n",
    "y_test_tensors = tf.convert_to_tensor(y_test_encoded)\n",
    "\n",
    "# Initialize BERT model\n",
    "model = TFBertForSequenceClassification.from_pretrained('bert-base-uncased', num_labels=len(le.classes_))\n",
    "\n",
    "# Define loss and metrics\n",
    "loss = tf.keras.losses.SparseCategoricalCrossentropy(from_logits=True)\n",
    "metrics = tf.metrics.SparseCategoricalAccuracy('accuracy')\n",
    "\n",
    "# Compile model\n",
    "model.compile(optimizer=tf.keras.optimizers.Adam(learning_rate=3e-5), loss=loss, metrics=[metrics])\n",
    "\n",
    "# Train model\n",
    "history = model.fit(X_train_tensors, y_train_tensors, epochs=3, validation_data=(X_test_tensors, y_test_tensors))\n",
    "\n",
    "# Evaluate model\n",
    "test_loss, test_acc = model.evaluate(X_test_tensors, y_test_tensors, verbose=2)\n",
    "print('\\nTest accuracy:', test_acc)"
   ]
  },
  {
   "cell_type": "code",
   "execution_count": null,
   "metadata": {},
   "outputs": [],
   "source": [
    "# todo: also use med-bert, choose different measures and display confusion matrices etc.\n",
    "# maybe also add a random forrest or other ensemble algorithm  and also display loss possibly"
   ]
  }
 ],
 "metadata": {
  "kernelspec": {
   "display_name": ".venv",
   "language": "python",
   "name": "python3"
  },
  "language_info": {
   "codemirror_mode": {
    "name": "ipython",
    "version": 3
   },
   "file_extension": ".py",
   "mimetype": "text/x-python",
   "name": "python",
   "nbconvert_exporter": "python",
   "pygments_lexer": "ipython3",
   "version": "3.10.1"
  },
  "orig_nbformat": 4
 },
 "nbformat": 4,
 "nbformat_minor": 2
}
